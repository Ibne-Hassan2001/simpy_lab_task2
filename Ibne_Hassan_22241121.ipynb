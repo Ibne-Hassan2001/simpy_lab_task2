{
  "nbformat": 4,
  "nbformat_minor": 0,
  "metadata": {
    "colab": {
      "provenance": [],
      "authorship_tag": "ABX9TyM5xME7FSeXL1/mStR3LY2k",
      "include_colab_link": true
    },
    "kernelspec": {
      "name": "python3",
      "display_name": "Python 3"
    },
    "language_info": {
      "name": "python"
    }
  },
  "cells": [
    {
      "cell_type": "markdown",
      "metadata": {
        "id": "view-in-github",
        "colab_type": "text"
      },
      "source": [
        "<a href=\"https://colab.research.google.com/github/Ibne-Hassan2001/simpy_lab_task2/blob/main/Ibne_Hassan_22241121.ipynb\" target=\"_parent\"><img src=\"https://colab.research.google.com/assets/colab-badge.svg\" alt=\"Open In Colab\"/></a>"
      ]
    },
    {
      "cell_type": "code",
      "execution_count": null,
      "metadata": {
        "colab": {
          "base_uri": "https://localhost:8080/"
        },
        "id": "Bd2K5T8mFd8G",
        "outputId": "1bbfa7df-a9ad-405f-ef7f-06701400fbea"
      },
      "outputs": [
        {
          "output_type": "stream",
          "name": "stdout",
          "text": [
            "Bank renege trying hard\n",
            " 0.0000 Counter : Opened\n",
            " 0.0000 Customer00: Here I am\n",
            " 0.0000 Customer00: Waited  0.000\n",
            " 3.8595 Customer00: Served by Counter \n",
            "10.2006 Counter : Opened\n",
            "10.2006 Customer01: Here I am\n",
            "10.2006 Customer01: Waited  0.000\n",
            "12.7265 Counter : Opened\n",
            "12.7265 Customer02: Here I am\n",
            "13.9003 Customer02: About to give up after  1.174\n",
            "23.7507 Customer01: Served by Counter \n",
            "34.9993 Counter : Opened\n",
            "34.9993 Customer03: Here I am\n",
            "34.9993 Customer03: Waited  0.000\n",
            "37.9599 Customer03: Served by Counter \n",
            "40.4798 Counter : Opened\n",
            "40.4798 Customer04: Here I am\n",
            "40.4798 Customer04: Waited  0.000\n",
            "43.1401 Customer04: Served by Counter \n"
          ]
        }
      ],
      "source": [
        "#Trying this lab for almost two weeks. I tried to implement as much as I could have.\n",
        "#Ibne Hassan\n",
        "#ID : 22241121\n",
        "\n",
        "import random\n",
        "\n",
        "import simpy\n",
        "\n",
        "\n",
        "RANDOM_SEED = 42\n",
        "NEW_CUSTOMERS = 5  # Total number of customers\n",
        "INTERVAL_CUSTOMERS = 10.0  # Generate new customers roughly every x seconds\n",
        "MIN_PATIENCE = 1  # Min. customer patience\n",
        "MAX_PATIENCE = 3  # Max. customer patience\n",
        "\n",
        "\n",
        "def source(env, number, interval, counter):\n",
        "    \"\"\"Source generates customers randomly\"\"\"\n",
        "    for i in range(number):\n",
        "        c = customer(env, 'Customer%02d' % i, counter, time_in_bank=12.0)\n",
        "        env.process(c)\n",
        "        t = random.expovariate(1.0 / interval)\n",
        "        yield env.timeout(t)\n",
        "\n",
        "#we will surely need a counter no function to track the counter\n",
        "\n",
        "def new_counter_open(env, numm, interval, machines):\n",
        "   \n",
        "\n",
        "    for m in machines:\n",
        "        env.process(m.run())\n",
        "        print('Counter: Opened %s' % numm)\n",
        "    t = random.expovariate(1.0 / interval)    \n",
        "    yield env.timeout(t)\n",
        "\n",
        "\n",
        "\n",
        "# imported functions from machine shop,  if it works in case\n",
        "    # def break_machine(self):\n",
        "    #     \"\"\"Break the machine every now and then.\"\"\"\n",
        "    #     while True:\n",
        "    #         yield self.env.timeout(time_to_failure())\n",
        "    #         if not self.broken:\n",
        "    #             # Only break the machine if it is currently working.\n",
        "    #             self.process.interrupt()\n",
        "# class Machine_shop:\n",
        "\n",
        "#     def __init__(self, env, resource_dict, machine_id, store):\n",
        "#         self.env = env\n",
        "#         self.resource_dict = resource_dict\n",
        "#         self.machine_id = machine_id\n",
        "#         self.resource = self.resource_dict[self.machine_id]\n",
        "#         self.store = store\n",
        "\n",
        "\n",
        "#     def do_something(self, item):\n",
        "#         arrive = env.now\n",
        "#         with self.resource.request() as req:\n",
        "#             yield req\n",
        "#             yield self.env.timeout(3)\n",
        "#         print('%7.4f Counter%00d: Opened' % (arrive, self.machine_id))\n",
        "#         print(f\"{arrive} - counter: {self.machine_id} - deal with item: {item}\")\n",
        "\n",
        "#     def run(self):\n",
        "#         while True:\n",
        "#             item = yield self.store.get()\n",
        "#             self.env.process(self.do_something(item))\n",
        "\n",
        "def customer(env, name, counter, time_in_bank):\n",
        "    \"\"\"Customer arrives, is served and leaves.\"\"\"\n",
        "    arrive = env.now\n",
        "    \n",
        "    print('%7.4f Counter : Opened' % (arrive))\n",
        "      \n",
        "    print('%7.4f %s: Here I am' % (arrive, name))\n",
        "\n",
        "    with counter.request() as req:\n",
        "        patience = random.uniform(MIN_PATIENCE, MAX_PATIENCE)\n",
        "        # Wait for the counter or abort at the end of our tether\n",
        "        results = yield req | env.timeout(patience)\n",
        "\n",
        "        wait = env.now - arrive\n",
        "\n",
        "        if req in results:\n",
        "            # We got to the counter\n",
        "            \n",
        "            print('%7.4f %s: Waited %6.3f' % (env.now, name, wait))\n",
        "\n",
        "            tib = random.expovariate(1.0 / time_in_bank)\n",
        "            yield env.timeout(tib)\n",
        "            print('%7.4f %s: Served by Counter ' % (env.now, name))\n",
        "            \n",
        "\n",
        "        else:\n",
        "            # We reneged\n",
        "            print('%7.4f %s: About to give up after %6.3f' % (env.now, name, wait))\n",
        "            # print('%7.4f Counter : Opened' % (arrive))\n",
        "\n",
        "\n",
        "\n",
        "# Setup and start the simulation\n",
        "print('Bank renege trying hard')\n",
        "random.seed(RANDOM_SEED)\n",
        "env = simpy.Environment()\n",
        "\n",
        "# Start processes and run\n",
        "counter = simpy.Resource(env, capacity=1)\n",
        "env.process(source(env, NEW_CUSTOMERS, INTERVAL_CUSTOMERS, counter))\n",
        "env.run()"
      ]
    },
    {
      "cell_type": "code",
      "source": [
        "!pip install simpy"
      ],
      "metadata": {
        "colab": {
          "base_uri": "https://localhost:8080/"
        },
        "id": "ZeQpkgnnFnB7",
        "outputId": "bab10d89-be89-48d3-867b-3da7ed5641cc"
      },
      "execution_count": null,
      "outputs": [
        {
          "output_type": "stream",
          "name": "stdout",
          "text": [
            "Looking in indexes: https://pypi.org/simple, https://us-python.pkg.dev/colab-wheels/public/simple/\n",
            "Collecting simpy\n",
            "  Downloading simpy-4.0.1-py2.py3-none-any.whl (29 kB)\n",
            "Installing collected packages: simpy\n",
            "Successfully installed simpy-4.0.1\n"
          ]
        }
      ]
    }
  ]
}